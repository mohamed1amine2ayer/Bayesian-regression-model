{
  "nbformat": 4,
  "nbformat_minor": 0,
  "metadata": {
    "colab": {
      "name": "Untitled10.ipynb",
      "private_outputs": true,
      "provenance": []
    },
    "kernelspec": {
      "name": "python3",
      "display_name": "Python 3"
    },
    "language_info": {
      "name": "python"
    }
  },
  "cells": [
    {
      "cell_type": "code",
      "execution_count": null,
      "metadata": {
        "id": "HipHQyE-H8n2"
      },
      "outputs": [],
      "source": [
        "import matplotlib.pyplot as plt\n",
        "import numpy as np\n",
        "import pandas as pd\n",
        "import seaborn as sns\n",
        "\n",
        "sns.set_style(\n",
        "    style=\"darkgrid\", \n",
        "    rc={\"axes.facecolor\": \".9\", \"grid.color\": \".8\"}\n",
        ")\n",
        "sns.set_palette(palette=\"deep\")\n",
        "sns_c = sns.color_palette(palette=\"deep\")\n",
        "\n",
        "import arviz as az\n",
        "import patsy\n",
        "import pymc3 as pm\n",
        "from pymc3 import glm\n",
        "\n",
        "plt.rcParams[\"figure.figsize\"] = [7, 6]\n",
        "plt.rcParams[\"figure.dpi\"] = 100"
      ]
    },
    {
      "cell_type": "code",
      "source": [
        "# install Anaconda3\n",
        "!wget -qO ac.sh https://repo.anaconda.com/archive/Anaconda3-2020.07-Linux-x86_64.sh \n",
        "!bash ./ac.sh -b\n",
        "\n",
        "# a fake google.colab library\n",
        "!ln -s /usr/local/lib/python3.7/dist-packages/google \\\n",
        "       /root/anaconda3/lib/python3.8/site-packages/google\n",
        "\n",
        "# start jupyterlab, which now has Python3 = 3.8\n",
        "!nohup /root/anaconda3/bin/jupyter-lab --ip=0.0.0.0&\n",
        "\n",
        "# access through ngrok, click the link\n",
        "!pip install pyngrok -q\n",
        "from pyngrok import ngrok\n",
        "print(ngrok.connect(8888))\n"
      ],
      "metadata": {
        "id": "qbhSKldMTnq-"
      },
      "execution_count": null,
      "outputs": []
    },
    {
      "cell_type": "markdown",
      "source": [
        "Generate Sample Data\n"
      ],
      "metadata": {
        "id": "KBVFwh9oI2Tf"
      }
    },
    {
      "cell_type": "code",
      "source": [
        "# Number of data points.\n",
        "n = 250\n",
        "# Create features.\n",
        "x1 = np.random.normal(loc=0.0, scale=2.0, size=n)\n",
        "x2 = np.random.normal(loc=0.0, scale=2.0, size=n)\n",
        "epsilon = np.random.normal(loc=0.0, scale=0.5, size=n)\n",
        "# Define target variable.\n",
        "intercept = -0.5\n",
        "beta_x1 = 1\n",
        "beta_x2 = -1\n",
        "beta_interaction = 2\n",
        "z = intercept + beta_x1 * x1 + beta_x2 * x2 + beta_interaction * x1 * x2\n",
        "p = 1 / (1 + np.exp(-z))\n",
        "y = np.random.binomial(n=1, p=p, size=n)\n",
        "\n",
        "df = pd.DataFrame(dict(x1=x1, x2=x2, y=y))\n",
        "\n",
        "df.head()"
      ],
      "metadata": {
        "id": "WyfMobX7I35T"
      },
      "execution_count": null,
      "outputs": []
    },
    {
      "cell_type": "code",
      "source": [
        ""
      ],
      "metadata": {
        "id": "l0JNbY0wJRlk"
      },
      "execution_count": null,
      "outputs": []
    },
    {
      "cell_type": "code",
      "source": [
        "sns.pairplot(\n",
        "    data=df,\n",
        "    kind=\"scatter\",\n",
        "    height=2,\n",
        "    plot_kws={\"color\": sns_c[1]},\n",
        "    diag_kws={\"color\": sns_c[2]} )"
      ],
      "metadata": {
        "id": "s89_mvFvJR2K"
      },
      "execution_count": null,
      "outputs": []
    },
    {
      "cell_type": "markdown",
      "source": [
        "x1 and x2 are not correlated.\n",
        "x1 and x2 do not seem to separate the \n",
        "y-classes independently.\n",
        "The distribution of y is not highly unbalanced."
      ],
      "metadata": {
        "id": "0GdEsIajJpgg"
      }
    },
    {
      "cell_type": "code",
      "source": [
        "fig, ax = plt.subplots()\n",
        "sns_c_div = sns.diverging_palette(240, 10, n=2)\n",
        "sns.scatterplot(\n",
        "  x=\"x1\",\n",
        "  y=\"x2\",\n",
        "  data=df,\n",
        "  hue=\"y\",\n",
        "  palette=[sns_c_div[0], sns_c_div[-1]]\n",
        ")\n",
        "ax.legend(title=\"y\", loc=\"center left\", bbox_to_anchor=(1, 0.5))\n",
        "ax.set(\n",
        "  title=\"Sample Data\",\n",
        "  xlim=(-9, 9),\n",
        "  ylim=(-9, 9),\n",
        "  xlabel=\"x1\",\n",
        "  ylabel=\"x2\"\n",
        ");"
      ],
      "metadata": {
        "id": "edJFrF8sJSgq"
      },
      "execution_count": null,
      "outputs": []
    },
    {
      "cell_type": "markdown",
      "source": [
        "Prepare Data for Modeling"
      ],
      "metadata": {
        "id": "VmpLfSMGKSHk"
      }
    },
    {
      "cell_type": "code",
      "source": [
        "# Define model formula.\n",
        "formula = \"y ~ x1 * x2\"\n",
        "# Create features.\n",
        "y, x = patsy.dmatrices(formula_like=formula, data=df)\n",
        "y = np.asarray(y).flatten()\n",
        "labels = x.design_info.column_names\n",
        "x = np.asarray(x)\n",
        "print(f\"labels = {labels}\")\n",
        "labels = ['Intercept', 'x1', 'x2', 'x1:x2']"
      ],
      "metadata": {
        "id": "I98PD3zyKTRe"
      },
      "execution_count": null,
      "outputs": []
    },
    {
      "cell_type": "markdown",
      "source": [
        "Now we do a train-test split"
      ],
      "metadata": {
        "id": "xLgaZqMoKmIn"
      }
    },
    {
      "cell_type": "code",
      "source": [
        "from sklearn.model_selection import train_test_split\n",
        "\n",
        "x_train, x_test, y_train, y_test = train_test_split(\n",
        "  x, y, train_size=0.7\n",
        ")"
      ],
      "metadata": {
        "id": "aWRSlS3vKp0b"
      },
      "execution_count": null,
      "outputs": []
    },
    {
      "cell_type": "markdown",
      "source": [
        "Define the Model\n",
        "We now specify the model in PyMC3."
      ],
      "metadata": {
        "id": "3_YGxDzzK5L1"
      }
    },
    {
      "cell_type": "code",
      "source": [
        "with pm.Model() as model:\n",
        "    # Set data container.\n",
        "    data = pm.Data(\"data\", x_train)\n",
        "    # Define GLM family.\n",
        "    family = pm.glm.families.Binomial()\n",
        "    # Set priors.\n",
        "    priors = {\n",
        "        \"Intercept\": pm.Normal.dist(mu=0, sd=10),\n",
        "        \"x1\": pm.Normal.dist(mu=0, sd=10),\n",
        "        \"x2\": pm.Normal.dist(mu=0, sd=10),\n",
        "        \"x1:x2\": pm.Normal.dist(mu=0, sd=10),\n",
        "    }\n",
        "    # Specify model.\n",
        "    glm.GLM(\n",
        "      y=y_train,\n",
        "      x=data,\n",
        "      family=family,\n",
        "      intercept=False,\n",
        "      labels=labels,\n",
        "      priors=priors\n",
        "    )"
      ],
      "metadata": {
        "id": "mq6UgzcXK-FG"
      },
      "execution_count": null,
      "outputs": []
    },
    {
      "cell_type": "markdown",
      "source": [
        "Prior Checks\n",
        "Before fitting the model we run some prior predictive checks on the training data."
      ],
      "metadata": {
        "id": "ZHRKAmHiLddQ"
      }
    },
    {
      "cell_type": "code",
      "source": [
        "# Sample from prior distribution.\n",
        "with model:\n",
        "    prior_checks = pm.sample_prior_predictive(samples=100)\n",
        "    prior_checks.keys()\n",
        "prior_checks[\"y\"]\n",
        "train_prior_df = pd.DataFrame(\n",
        "    data={\n",
        "        \"x1_train\": x_train[:, 1],\n",
        "        \"x2_train\": x_train[:, 2],\n",
        "        \"y_train\": y_train,\n",
        "        \"y_train_prior_mean\": prior_checks[\"y\"].mean(axis=0),\n",
        "    },\n",
        ")\n",
        "\n",
        "train_prior_df.sort_values(\"y_train\", inplace=True)"
      ],
      "metadata": {
        "id": "XA61M_7QLigS"
      },
      "execution_count": null,
      "outputs": []
    },
    {
      "cell_type": "code",
      "source": [
        "\n"
      ],
      "metadata": {
        "id": "f7HYBjrtSpvI"
      },
      "execution_count": null,
      "outputs": []
    },
    {
      "cell_type": "code",
      "source": [
        ""
      ],
      "metadata": {
        "id": "_cGgVzDgTksk"
      },
      "execution_count": null,
      "outputs": []
    },
    {
      "cell_type": "markdown",
      "source": [
        ""
      ],
      "metadata": {
        "id": "lH8VL4DUMcFJ"
      }
    },
    {
      "cell_type": "code",
      "source": [
        "# Plot means distribution.\n",
        "fig, ax = plt.subplots()\n",
        "sns.kdeplot(\n",
        "    x=\"y_train_prior_mean\",\n",
        "    data=train_prior_df,\n",
        "    hue=\"y_train\",\n",
        "    palette=[sns_c[0], sns_c[3]],\n",
        "    fill=True,\n",
        "    alpha=0.1,\n",
        "    ax=ax,\n",
        ")\n",
        "ax.axvline(x=0.5, color=\"gray\", linestyle=\"--\")\n",
        "ax.set(title=\"Prior Means Distribution (train)\", xlim=(0, 1));\n"
      ],
      "metadata": {
        "id": "hSPNi_PoL9y2"
      },
      "execution_count": null,
      "outputs": []
    },
    {
      "cell_type": "markdown",
      "source": [
        "We clearly see that the model can not distinguish between the two classes yet. This makes sense as we have non-informative priors for this synthetic data set. We can also confirm this if we plot each point separately:"
      ],
      "metadata": {
        "id": "Eranf19CMdpu"
      }
    },
    {
      "cell_type": "code",
      "source": [
        "fig, ax = plt.subplots()\n",
        "cmap = sns.diverging_palette(240, 10, n=50, as_cmap=True)\n",
        "sns.scatterplot(\n",
        "    x=\"x1_train\",\n",
        "    y=\"x2_train\",\n",
        "    data=train_prior_df,\n",
        "    hue=\"y_train_prior_mean\",\n",
        "    hue_norm=(0, 1),\n",
        "    palette=cmap,\n",
        "    edgecolor=\"black\",\n",
        "    style=\"y_train\",\n",
        "    ax=ax,\n",
        ")\n",
        "ax.legend(loc=\"center left\", bbox_to_anchor=(1, 0.5))\n",
        "ax.set(\n",
        "  title=\"Prior Means (train)\",\n",
        "  xlim=(-9, 9),\n",
        "  ylim=(-9, 9),\n",
        "  xlabel=\"x1\",\n",
        "  ylabel=\"x2\")"
      ],
      "metadata": {
        "id": "Oblpc8rEMlGi"
      },
      "execution_count": null,
      "outputs": []
    },
    {
      "cell_type": "markdown",
      "source": [
        "Fit Model\n"
      ],
      "metadata": {
        "id": "MqXu1lIJMwX5"
      }
    },
    {
      "cell_type": "code",
      "source": [
        " with model:\n",
        "    # Configure sampler.\n",
        "    trace = pm.sample(5000, chains=5, tune=1000, target_accept=0.87)\n",
        "# Plot chains.\n",
        "az.plot_trace(data=trace)\n",
        "az.summary(trace)"
      ],
      "metadata": {
        "id": "iwk3Mg7uMxlK"
      },
      "execution_count": null,
      "outputs": []
    },
    {
      "cell_type": "code",
      "source": [
        "# Update data reference.\n",
        "pm.set_data({\"data\": x_test}, model=model)\n",
        "# Generate posterior samples.\n",
        "ppc_test = pm.sample_posterior_predictive(trace, model=model, samples=1000)\n",
        "# Compute the point prediction by taking the mean\n",
        "# and defining the category via a threshold.\n",
        "p_test_pred = ppc_test[\"y\"].mean(axis=0)\n",
        "y_test_pred = (p_test_pred >= 0.5).astype(\"int\")"
      ],
      "metadata": {
        "id": "F7ipJ1l-NP6q"
      },
      "execution_count": null,
      "outputs": []
    },
    {
      "cell_type": "markdown",
      "source": [
        "Evaluate Model"
      ],
      "metadata": {
        "id": "Sj9NKfRZNedO"
      }
    },
    {
      "cell_type": "code",
      "source": [
        "#First let us compute the accuracy on the test set.\n",
        "\n",
        "from sklearn.metrics import accuracy_score\n",
        "\n",
        "print(f\"accuracy = {accuracy_score(y_true=y_test, y_pred=y_test_pred): 0.3f}\")\n",
        "accuracy =  0.787\n",
        "#Next, we plot the roc curve and compute the auc.\n",
        "\n",
        "from sklearn.metrics import RocCurveDisplay, auc, roc_curve\n",
        "\n",
        "fpr, tpr, thresholds = roc_curve(\n",
        "    y_true=y_test, y_score=p_test_pred, pos_label=1, drop_intermediate=False\n",
        ")\n",
        "roc_auc = auc(fpr, tpr)\n",
        "\n",
        "fig, ax = plt.subplots()\n",
        "roc_display = RocCurveDisplay(fpr=fpr, tpr=tpr, roc_auc=roc_auc)\n",
        "roc_display = roc_display.plot(ax=ax, marker=\"o\", color=sns_c[4], markersize=4)\n",
        "ax.set(title=\"ROC\");"
      ],
      "metadata": {
        "id": "uhrt-vYUNf20"
      },
      "execution_count": null,
      "outputs": []
    }
  ]
}