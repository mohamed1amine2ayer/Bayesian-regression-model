{
  "nbformat": 4,
  "nbformat_minor": 0,
  "metadata": {
    "colab": {
      "name": "bayes linear regression 1.ipynb",
      "private_outputs": true,
      "provenance": [],
      "collapsed_sections": []
    },
    "kernelspec": {
      "name": "python3",
      "display_name": "Python 3"
    },
    "language_info": {
      "name": "python"
    },
    "gpuClass": "standard"
  },
  "cells": [
    {
      "cell_type": "code",
      "execution_count": null,
      "metadata": {
        "id": "00TnwtSXhJYo"
      },
      "outputs": [],
      "source": [
        "import numpy as np \n",
        "import pandas as pd\n",
        "#Data visualization package for Python\n",
        "import arviz as az\n",
        "import matplotlib.pyplot as plt \n",
        "#Bayesian package for Python\n",
        "import pymc3             as pm\n",
        "\n"
      ]
    },
    {
      "cell_type": "code",
      "source": [
        "az.style.use(\"arviz-darkgrid\")"
      ],
      "metadata": {
        "id": "3pHyX-Wxh8a4"
      },
      "execution_count": null,
      "outputs": []
    },
    {
      "cell_type": "markdown",
      "source": [
        "generating data and population regression equation"
      ],
      "metadata": {
        "id": "_GvTzwXziC7c"
      }
    },
    {
      "cell_type": "code",
      "source": [
        "size=200\n",
        "x=np.linspace(0,1,size)\n",
        "xb=1+2*x\n",
        "y  = 1 + 2 * x + np.random.normal(scale=1, size=size)\n",
        "\n",
        "data = pd.DataFrame(dict(x=x, y=y))"
      ],
      "metadata": {
        "id": "_t1VrDs7iGSv"
      },
      "execution_count": null,
      "outputs": []
    },
    {
      "cell_type": "markdown",
      "source": [
        "plot data and population regression equation"
      ],
      "metadata": {
        "id": "116MtIorisC6"
      }
    },
    {
      "cell_type": "code",
      "source": [
        "fig = plt.figure(figsize=(7, 7))\n",
        "\n",
        "plt.scatter(x, y, label=\"data\")\n",
        "plt.plot(x, xb, label=\"population regression line\", c='red', lw=5, linestyle='dashed')\n",
        "plt.xlabel('x')\n",
        "plt.ylabel('y')\n",
        "\n",
        "plt.legend()\n",
        "plt.show()"
      ],
      "metadata": {
        "id": "fcExZrYAixJG"
      },
      "execution_count": null,
      "outputs": []
    },
    {
      "cell_type": "markdown",
      "source": [
        "Baseline : Frequentist OLS"
      ],
      "metadata": {
        "id": "xLMeNfgAi7Ry"
      }
    },
    {
      "cell_type": "code",
      "source": [
        "import statsmodels.api as sm\n",
        "X = data['x']\n",
        "X = sm.add_constant(X)\n",
        "Y = data['y']\n",
        "reg = sm.OLS(Y, X)\n",
        "import statsmodels.api as sm\n",
        "\n",
        "X = data['x']\n",
        "X = sm.add_constant(X)\n",
        "Y = data['y']\n",
        "\n",
        "reg = sm.OLS(Y, X)\n",
        "result = reg.fit()\n",
        "\n",
        "print(result.summary())\n",
        "\n",
        "Y_pred = result.predict()\n",
        "Y_pred.shape = (200,1)"
      ],
      "metadata": {
        "id": "CYdnGTn7i5lh"
      },
      "execution_count": null,
      "outputs": []
    },
    {
      "cell_type": "markdown",
      "source": [
        "Frequentist OLS plotting"
      ],
      "metadata": {
        "id": "14IufpdsjhRC"
      }
    },
    {
      "cell_type": "code",
      "source": [
        "fig1 = plt.figure()\n",
        "\n",
        "plt.scatter(X['x'], Y, label='data', color='blue')\n",
        "plt.plot(X['x'], Y_pred, label='predicted regression equation', color='orange', linewidth=5.0)\n",
        "\n",
        "plt.xlabel('x')\n",
        "plt.ylabel('y')\n",
        "\n",
        "plt.legend()\n",
        "plt.show()\n"
      ],
      "metadata": {
        "id": "f5phYL9Xjjua"
      },
      "execution_count": null,
      "outputs": []
    },
    {
      "cell_type": "markdown",
      "source": [
        "# Bayesian regression\n"
      ],
      "metadata": {
        "id": "8njkqOSVkHvz"
      }
    },
    {
      "cell_type": "markdown",
      "source": [
        "define prior, likelihood and calculate posterior\n"
      ],
      "metadata": {
        "id": "gYn85gGxkU36"
      }
    },
    {
      "cell_type": "code",
      "source": [
        "with pm.Model() as model:  # model specifications in PyMC3 are wrapped in a with-statement\n",
        "    \n",
        "    # Define priors\n",
        "    sigma = pm.HalfCauchy(\"sigma\", beta=10, testval=1.0) # for mor info https://docs.pymc.io/en/latest/api/distributions/generated/pymc.HalfCauchy.html\n",
        "    intercept = pm.Normal(\"Intercept\", 0, sigma=20)\n",
        "    x_coeff = pm.Normal(\"x\", 0, sigma=20) # https://docs.pymc.io/en/latest/api/distributions/generated/pymc.Normal.html\n",
        "\n",
        "    # Define likelihood\n",
        "    likelihood = pm.Normal(\"y\", mu=intercept + x_coeff * x, sigma=sigma, observed=y)\n",
        "\n",
        "    # Inference\n",
        "    trace = pm.sample(10000, cores=16, return_inferencedata=True)"
      ],
      "metadata": {
        "id": "AeeuPYDSkYfF"
      },
      "execution_count": null,
      "outputs": []
    },
    {
      "cell_type": "markdown",
      "source": [
        "check the posterior of each coefficient"
      ],
      "metadata": {
        "id": "D6-KvvYEoyuX"
      }
    },
    {
      "cell_type": "code",
      "source": [
        "az.plot_trace(trace, figsize=(10, 7)) # Plot distribution (histogram or kernel density estimates) and sampled values or rank plot.\n",
        "\n",
        "                                     # If divergences data is available in sample_stats, will plot the location of divergences as dashed vertical lines.\n",
        "\n"
      ],
      "metadata": {
        "id": "VXsnYwBCo42Y"
      },
      "execution_count": null,
      "outputs": []
    },
    {
      "cell_type": "markdown",
      "source": [
        "Bayesian regression plot\n"
      ],
      "metadata": {
        "id": "j4zsvUcoqFl0"
      }
    },
    {
      "cell_type": "code",
      "source": [
        "plt.figure(figsize=(7, 5))\n",
        "\n",
        "plt.scatter(x, y, c='blue', label=\"data\")\n",
        "pm.plot_posterior_predictive_glm(trace, samples=100, label=\"posterior predictive regression lines\")\n",
        "plt.plot(x, xb, label=\"population regression line\", lw=3.0, c=\"r\", linestyle='dashed')\n",
        "\n",
        "plt.xlabel('x')\n",
        "plt.ylabel('y')\n",
        "plt.ylim(-2,7)\n",
        "\n",
        "plt.legend()\n",
        "\n",
        "plt.show()"
      ],
      "metadata": {
        "id": "coRj6h_qqHSR"
      },
      "execution_count": null,
      "outputs": []
    },
    {
      "cell_type": "markdown",
      "source": [
        "OLS vs Bayesian Regression"
      ],
      "metadata": {
        "id": "HuiZG7kgq4aS"
      }
    },
    {
      "cell_type": "code",
      "source": [
        "trace"
      ],
      "metadata": {
        "id": "dbyJb95PrfiA"
      },
      "execution_count": null,
      "outputs": []
    },
    {
      "cell_type": "code",
      "source": [
        "fig = plt.subplots(figsize=(8,6))\n",
        "\n",
        "plt.subplot(2, 1, 1)\n",
        "plt.scatter(x, y, c='dodgerblue')\n",
        "pm.plot_posterior_predictive_glm(trace, samples=100, label=\"posterior predictive regression lines\")\n",
        "plt.plot(x, xb, label=\"population regression line\", lw=3.0, c=\"r\", linestyle='dashed')\n",
        "plt.title(\"Bayesian regression\")\n",
        "plt.ylim(-2.5,5.5)\n",
        "plt.legend()\n",
        "\n",
        "\n",
        "plt.subplot(2, 1, 2)\n",
        "plt.scatter(x, y, c='dodgerblue')\n",
        "plt.plot(X['x'], Y_pred, label='OLS regression equation', c='k', linewidth=5.0)\n",
        "plt.plot(x, xb, label=\"population regression line\", lw=5.0, c=\"r\", linestyle='dashed')\n",
        "plt.title(\"OLS regression\")\n",
        "plt.ylim(-2.5,5.5)\n",
        "plt.legend()\n",
        "\n",
        "plt.show()"
      ],
      "metadata": {
        "id": "A-OOWv61q4pI"
      },
      "execution_count": null,
      "outputs": []
    }
  ]
}